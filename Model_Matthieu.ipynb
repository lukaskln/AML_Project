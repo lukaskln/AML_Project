{
 "metadata": {
  "language_info": {
   "codemirror_mode": {
    "name": "ipython",
    "version": 3
   },
   "file_extension": ".py",
   "mimetype": "text/x-python",
   "name": "python",
   "nbconvert_exporter": "python",
   "pygments_lexer": "ipython3",
   "version": "3.8.5-final"
  },
  "orig_nbformat": 2,
  "kernelspec": {
   "name": "Python 3.8.5 64-bit",
   "display_name": "Python 3.8.5 64-bit",
   "metadata": {
    "interpreter": {
     "hash": "e7370f93d1d0cde622a1f8e1c04877d8463912d04d973331ad4851f04de6915a"
    }
   }
  }
 },
 "nbformat": 4,
 "nbformat_minor": 2,
 "cells": [
  {
   "cell_type": "code",
   "execution_count": 1,
   "metadata": {},
   "outputs": [],
   "source": [
    "import pandas as pd\n",
    "import numpy as np\n",
    "from sklearn.ensemble import IsolationForest, GradientBoostingRegressor, RandomForestRegressor\n",
    "from sklearn.model_selection import train_test_split\n",
    "from sklearn.preprocessing import normalize, MinMaxScaler, StandardScaler\n",
    "from sklearn.impute import SimpleImputer, KNNImputer\n",
    "import sklearn.metrics as skm\n",
    "from sklearn.feature_selection import VarianceThreshold, RFECV, mutual_info_regression, SelectPercentile, SelectKBest, f_regression, RFE, SelectFromModel\n",
    "from sklearn.svm import SVR\n",
    "from sklearn.decomposition import PCA, KernelPCA\n",
    "from sklearn.experimental import enable_iterative_imputer\n",
    "from sklearn.impute import IterativeImputer\n",
    "from sklearn.model_selection import GridSearchCV\n",
    "from sklearn.model_selection import KFold\n",
    "from sklearn.neural_network import MLPRegressor\n",
    "from sklearn.experimental import enable_hist_gradient_boosting\n",
    "from sklearn.ensemble import HistGradientBoostingRegressor,ExtraTreesRegressor\n",
    "from sklearn.neighbors import LocalOutlierFactor\n",
    "from sklearn.pipeline import Pipeline\n",
    "from lightgbm import LGBMRegressor"
   ]
  },
  {
   "cell_type": "code",
   "execution_count": 118,
   "metadata": {},
   "outputs": [],
   "source": [
    "# .585\n",
    "X = pd.read_csv(\"X_train.csv\").drop(\"id\", axis=1)\n",
    "y = pd.read_csv(\"y_train.csv\").drop(\"id\", axis=1)\n",
    "pipe_pre = Pipeline([\n",
    "    ('s1', SimpleImputer(strategy='median')),\n",
    "    ('s2', MinMaxScaler()),\n",
    "    ('s4', SelectKBest(score_func=f_regression)),\n",
    "    ('s5', LGBMRegressor(n_jobs=1))\n",
    "])\n",
    "grid = {\n",
    "    's4__k': [100],\n",
    "    's5__num_leaves': [24],\n",
    "    's5__subsample_for_bin': [80],\n",
    "    's5__min_child_samples': [1],\n",
    "    's5__max_depth': [13],\n",
    "    's5__colsample_bytree': [0.45],\n",
    "    's5__n_estimators': [500],\n",
    "    's5__learning_rate': [0.1],\n",
    "}\n",
    "estimator = GridSearchCV(pipe_pre, grid, cv=5, n_jobs=16, scoring=\"r2\").fit(X, y)"
   ]
  },
  {
   "cell_type": "code",
   "execution_count": null,
   "metadata": {},
   "outputs": [],
   "source": [
    "#this one\n",
    "final = pipe_pre = Pipeline([\n",
    "    ('s1', SimpleImputer(strategy='median')),\n",
    "    ('s2', MinMaxScaler()),\n",
    "    ('s4', SelectKBest(score_func=f_regression, k=100)),\n",
    "    ('s5', LGBMRegressor(n_jobs=1, min_child_samples=1, max_depth=13, colsample_bytree=0.45, n_estimators=500, learning_rate=0.1, num_leaves=24, subsample_for_bin=80))\n",
    "])\n",
    "X_test = pd.read_csv(\"X_test.csv\").drop(\"id\", axis=1)\n",
    "final = final.fit(X, y)\n",
    "pd.DataFrame(final.predict(X_test)).to_csv(\"rofl.csv\", index_label='id', header=['y'])"
   ]
  },
  {
   "cell_type": "code",
   "execution_count": null,
   "metadata": {},
   "outputs": [],
   "source": [
    "#Not this one, experimenting\n",
    "X = pd.read_csv(\"X_train.csv\").drop(\"id\", axis=1)\n",
    "y = pd.read_csv(\"y_train.csv\").drop(\"id\", axis=1)\n",
    "inner_estim = ExtraTreesRegressor(max_depth=15, min_samples_leaf=4, min_samples_split=8, n_estimators=150)\n",
    "pipe_pre = Pipeline([\n",
    "    ('s1', SimpleImputer(strategy='median')),\n",
    "    ('s2', MinMaxScaler()),\n",
    "    ('s4', SelectFromModel(inner_estim, threshold=-np.inf)),\n",
    "    ('s5', LGBMRegressor(n_jobs=1))\n",
    "])\n",
    "grid = {\n",
    "    's4__max_features': [60,70,80],\n",
    "    's5__num_leaves': [23,24,25],\n",
    "    's5__subsample_for_bin': [80],\n",
    "    's5__min_child_samples': [1,2],\n",
    "    's5__max_depth': [11,13,14],\n",
    "    's5__colsample_bytree': [0.3,0.45,0.5],\n",
    "    's5__n_estimators': [500],\n",
    "    's5__learning_rate': [0.1],\n",
    "}\n",
    "estimator = GridSearchCV(pipe_pre, grid, cv=5, n_jobs=8, scoring=\"r2\").fit(X, y)"
   ]
  },
  {
   "cell_type": "code",
   "execution_count": 416,
   "metadata": {},
   "outputs": [],
   "source": [
    "\n",
    "#   best score .56 with tuning\n",
    "#   variancethreshold useless\n",
    "#   IterativeImputer useless\n",
    "X = pd.read_csv(\"X_train.csv\").drop(\"id\", axis=1)\n",
    "y = pd.read_csv(\"y_train.csv\").drop(\"id\", axis=1)\n",
    "pipe_pre = Pipeline([\n",
    "    ('s1', SimpleImputer(strategy='median')),\n",
    "    ('s2', MinMaxScaler()),\n",
    "    ('s4', SelectKBest(score_func=mutual_info_regression)),\n",
    "    ('s5', GradientBoostingRegressor(n_estimators=300))\n",
    "])\n",
    "grid = {\n",
    "    's4__k': [50],\n",
    "    's5__max_depth': [11],\n",
    "    's5__min_samples_split': [12],\n",
    "    's5__min_samples_leaf': [7]\n",
    "}\n",
    "estimator = GridSearchCV(pipe_pre, grid, cv=5, n_jobs=8, scoring=\"r2\").fit(X, y)"
   ]
  }
 ]
}