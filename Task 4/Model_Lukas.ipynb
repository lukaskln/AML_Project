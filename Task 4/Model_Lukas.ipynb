{
 "cells": [
  {
   "cell_type": "code",
   "execution_count": null,
   "metadata": {
    "collapsed": true,
    "gather": {
     "logged": 1607340065223
    },
    "jupyter": {
     "outputs_hidden": false,
     "source_hidden": false
    },
    "nteract": {
     "transient": {
      "deleting": false
     }
    }
   },
   "outputs": [],
   "source": [
    "#### SetUp\r\n",
    "\r\n",
    "import numpy as np\r\n",
    "import pandas as pd\r\n",
    "import lightgbm as lgb\r\n",
    "from sklearn.metrics import f1_score, confusion_matrix, plot_confusion_matrix\r\n",
    "from sklearn.preprocessing import MinMaxScaler, StandardScaler\r\n",
    "from sklearn.model_selection import cross_validate, GridSearchCV, KFold, StratifiedKFold\r\n",
    "from sklearn.linear_model import Lasso, LogisticRegression, RidgeClassifier\r\n",
    "from sklearn.feature_selection import SelectFromModel, RFE\r\n",
    "from sklearn.svm import SVC, OneClassSVM\r\n",
    "from sklearn.decomposition import PCA\r\n",
    "from sklearn.ensemble import RandomForestClassifier\r\n",
    "import xgboost as xgb\r\n",
    "from sklearn.metrics import balanced_accuracy_score\r\n",
    "\r\n",
    "import pywt\r\n",
    "import numpy as np\r\n",
    "import pandas as pd\r\n",
    "import pywt\r\n",
    "import seaborn as sns\r\n",
    "import scaleogram as scg \r\n",
    "import matplotlib.pyplot as plt\r\n",
    "import matplotlib.gridspec as GridSpec\r\n",
    "from mat4py import loadmat\r\n",
    "from scipy.fftpack import fft\r\n",
    "import seaborn as sn\r\n",
    "\r\n",
    "import matplotlib.pyplot as plt\r\n",
    "from scipy.stats import mode\r\n",
    "from statsmodels.tsa.stattools import acf, pacf\r\n",
    "\r\n",
    "from collections import Counter\r\n",
    "from scipy import stats\r\n",
    "from itertools import repeat\r\n",
    "\r\n",
    "import biosppy.signals.ecg as ecg\r\n",
    "\r\n",
    "vColors = [\"#049DD9\", \"#03A64A\", \"#F2AC29\", \"#F2CA80\", \"#F22929\"]"
   ]
  },
  {
   "cell_type": "code",
   "execution_count": 2,
   "metadata": {
    "collapsed": true,
    "gather": {
     "logged": 1607340071038
    },
    "jupyter": {
     "outputs_hidden": false,
     "source_hidden": false
    },
    "nteract": {
     "transient": {
      "deleting": false
     }
    }
   },
   "outputs": [],
   "source": [
    "X_train = pd.read_csv(\"features_train.csv\")\r\n",
    "y_train = pd.read_csv(\"train_labels.csv\").to_numpy()[:,1]"
   ]
  },
  {
   "cell_type": "code",
   "execution_count": 3,
   "metadata": {
    "collapsed": true,
    "jupyter": {
     "outputs_hidden": false,
     "source_hidden": false
    },
    "nteract": {
     "transient": {
      "deleting": false
     }
    }
   },
   "outputs": [],
   "source": [
    "# Parameter Tuning\r\n",
    "\r\n",
    "param_test = {'max_depth': [10, 15, 18],\r\n",
    "              'min_child_samples': [6,8,10],\r\n",
    "              'subsample': [0.7,0.8],\r\n",
    "              'colsample_bytree': [0.8, 0.7]}\r\n",
    "\r\n",
    "gsearch5 = GridSearchCV(estimator=lgb.LGBMClassifier(objective='multiclass',\r\n",
    "                                                    num_iterations = 100,\r\n",
    "                                                    learning_rate = 0.1,\r\n",
    "                                                    num_threads = 4,\r\n",
    "                                                    class_weight=\"balanced\",\r\n",
    "                                                    random_state = 42),\r\n",
    "                        param_grid=param_test,\r\n",
    "                        scoring=\"balanced_accuracy\",\r\n",
    "                        n_jobs= -1, \r\n",
    "                        cv=5)\r\n",
    "\r\n",
    "gsearch5.fit(X_train, y_train)\r\n",
    "\r\n",
    "pd.DataFrame(gsearch5.cv_results_).sort_values(\"rank_test_score\")\r\n",
    "print(gsearch5.best_params_)\r\n",
    "print(gsearch5.best_score_)"
   ]
  },
  {
   "cell_type": "code",
   "execution_count": 7,
   "metadata": {
    "collapsed": true,
    "gather": {
     "logged": 1607363137976
    },
    "jupyter": {
     "outputs_hidden": false,
     "source_hidden": false
    },
    "nteract": {
     "transient": {
      "deleting": false
     }
    }
   },
   "outputs": [
    {
     "name": "stdout",
     "output_type": "stream",
     "text": [
      "{'colsample_bytree': 0.8, 'max_depth': 10, 'min_child_samples': 8, 'subsample': 0.7}\n",
      "0.9114251591323063\n"
     ]
    }
   ],
   "source": [
    "pd.DataFrame(gsearch5.cv_results_).sort_values(\"rank_test_score\")\r\n",
    "print(gsearch5.best_params_)\r\n",
    "print(gsearch5.best_score_)\r\n"
   ]
  },
  {
   "cell_type": "code",
   "execution_count": 37,
   "metadata": {
    "gather": {
     "logged": 1607365171298
    }
   },
   "outputs": [
    {
     "name": "stdout",
     "output_type": "stream",
     "text": [
      "\n",
      "Train BMAC:\n",
      "0.9806\n",
      "\n",
      "Test BMAC:\n",
      "0.9272\n",
      "\n",
      "________________________\n",
      "\n",
      "Train BMAC:\n",
      "0.98\n",
      "\n",
      "Test BMAC:\n",
      "0.9377\n",
      "\n",
      "________________________\n",
      "\n",
      "Train BMAC:\n",
      "0.9754\n",
      "\n",
      "Test BMAC:\n",
      "0.9651\n",
      "\n",
      "________________________\n",
      "\n",
      "Train BMAC:\n",
      "0.9742\n",
      "\n",
      "Test BMAC:\n",
      "0.9638\n",
      "\n",
      "________________________\n",
      "\n",
      "Train BMAC:\n",
      "0.9795\n",
      "\n",
      "Test BMAC:\n",
      "0.938\n",
      "\n",
      "________________________\n",
      "\n",
      "Average BMAC: 0.9464\n",
      "Std: 0.0153\n"
     ]
    }
   ],
   "source": [
    "model = lgb.LGBMClassifier(objective='multiclass',\r\n",
    "                        n_estimators = 60,\r\n",
    "                        learning_rate = 0.1,\r\n",
    "                        random_state=42,\r\n",
    "                        max_depth = 150,\r\n",
    "                        min_child_samples = 20,\r\n",
    "                        subsample = 0.75,\r\n",
    "                        colsample_bytree = 0.8,\r\n",
    "                        reg_alpha = 0,\r\n",
    "                        class_weight=\"balanced\"\r\n",
    "                        )\r\n",
    "\r\n",
    "\r\n",
    "BAC = []\r\n",
    "cv = KFold(n_splits=5)\r\n",
    "\r\n",
    "for train_ix, test_ix in cv.split(X_train):\r\n",
    "\r\n",
    "    X_cvtrain, X_cvtest = X_train.iloc[train_ix, :], X_train.iloc[test_ix, :]\r\n",
    "    y_cvtrain, y_cvtest = y_train[train_ix], y_train[test_ix]\r\n",
    "\r\n",
    "    model.fit(X_cvtrain, y_cvtrain)\r\n",
    "\r\n",
    "    predtrain = model.predict(X_cvtrain)\r\n",
    "    pred = model.predict(X_cvtest)\r\n",
    "\r\n",
    "    print(\"\\nTrain BMAC:\")\r\n",
    "    print(np.round(balanced_accuracy_score(y_cvtrain, predtrain), 4))\r\n",
    "    print(\"\\nTest BMAC:\")\r\n",
    "    print(np.round(balanced_accuracy_score(y_cvtest, pred), 4))\r\n",
    "    print(\"\\n________________________\")\r\n",
    "\r\n",
    "    BAC.append(np.round(balanced_accuracy_score(y_cvtest, pred), 4))\r\n",
    "\r\n",
    "print(\"\\nAverage BMAC:\", round(np.sum(BAC)/5, 4))\r\n",
    "print(\"Std:\", round(np.std(BAC), 4))"
   ]
  },
  {
   "cell_type": "code",
   "execution_count": null,
   "metadata": {
    "collapsed": true,
    "gather": {
     "logged": 1607271970129
    },
    "jupyter": {
     "outputs_hidden": false,
     "source_hidden": false
    },
    "nteract": {
     "transient": {
      "deleting": false
     }
    }
   },
   "outputs": [],
   "source": [
    "sn.heatmap(confusion_matrix(y_cvtest, pred), annot=True,cmap='Blues', fmt='g')"
   ]
  },
  {
   "cell_type": "code",
   "execution_count": 9,
   "metadata": {
    "collapsed": true,
    "gather": {
     "logged": 1607363214937
    },
    "jupyter": {
     "outputs_hidden": false,
     "source_hidden": false
    },
    "nteract": {
     "transient": {
      "deleting": false
     }
    }
   },
   "outputs": [],
   "source": [
    "X_test = pd.read_csv(\"features_test.csv\")"
   ]
  },
  {
   "cell_type": "code",
   "execution_count": 10,
   "metadata": {
    "collapsed": true,
    "gather": {
     "logged": 1607363217546
    },
    "jupyter": {
     "outputs_hidden": false,
     "source_hidden": false
    },
    "nteract": {
     "transient": {
      "deleting": false
     }
    }
   },
   "outputs": [],
   "source": [
    "scaler = StandardScaler() \r\n",
    "\r\n",
    "X_train = pd.DataFrame(\r\n",
    "    scaler.fit_transform(\r\n",
    "    X_train),\r\n",
    "    columns=X_train.columns)\r\n",
    "\r\n",
    "X_test = pd.DataFrame(\r\n",
    "    scaler.fit_transform(\r\n",
    "    X_test),\r\n",
    "    columns=X_test.columns)"
   ]
  },
  {
   "cell_type": "code",
   "execution_count": 31,
   "metadata": {
    "collapsed": true,
    "gather": {
     "logged": 1607364956957
    },
    "jupyter": {
     "outputs_hidden": false,
     "source_hidden": false
    },
    "nteract": {
     "transient": {
      "deleting": false
     }
    }
   },
   "outputs": [],
   "source": [
    "model.fit(X_train, y_train)\r\n",
    "\r\n",
    "preds = model.predict(X_test)\r\n",
    "\r\n",
    "dfResults = pd.DataFrame({\"Id\": list(range(0, X_test.shape[0], 1)), \"y\": preds})\r\n",
    "\r\n",
    "dfResults.to_csv(\"Results.csv\", sep=',', index=False)"
   ]
  }
 ],
 "metadata": {
  "kernel_info": {
   "name": "python3-azureml"
  },
  "kernelspec": {
   "display_name": "Python 3.6 - AzureML",
   "language": "python",
   "name": "python3-azureml"
  },
  "language_info": {
   "codemirror_mode": {
    "name": "ipython",
    "version": 3
   },
   "file_extension": ".py",
   "mimetype": "text/x-python",
   "name": "python",
   "nbconvert_exporter": "python",
   "pygments_lexer": "ipython3",
   "version": "3.6.9"
  },
  "nteract": {
   "version": "nteract-front-end@1.0.0"
  }
 },
 "nbformat": 4,
 "nbformat_minor": 2
}
