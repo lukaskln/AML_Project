{
 "metadata": {
  "language_info": {
   "codemirror_mode": {
    "name": "ipython",
    "version": 3
   },
   "file_extension": ".py",
   "mimetype": "text/x-python",
   "name": "python",
   "nbconvert_exporter": "python",
   "pygments_lexer": "ipython3",
   "version": "3.8.5-final"
  },
  "orig_nbformat": 2,
  "kernelspec": {
   "name": "python3",
   "display_name": "Python 3.8.5 64-bit ('data': conda)",
   "metadata": {
    "interpreter": {
     "hash": "936518a37fd5fcf82ea684a89a1be43d6aab89db38335cee599b218e97fd9abe"
    }
   }
  }
 },
 "nbformat": 4,
 "nbformat_minor": 2,
 "cells": [
  {
   "cell_type": "code",
   "execution_count": 1,
   "metadata": {},
   "outputs": [],
   "source": [
    "import pandas as pd\n",
    "import numpy as np\n",
    "from sklearn.preprocessing import StandardScaler\n",
    "from tensorflow.keras.preprocessing.sequence import TimeseriesGenerator\n",
    "from tensorflow.keras.utils import Sequence\n",
    "from keras.layers import LSTM, Dense, Dropout\n",
    "from keras.models import Sequential\n",
    "from sklearn.utils.class_weight import compute_class_weight\n",
    "from lightgbm import LGBMClassifier\n",
    "from sklearn.metrics import balanced_accuracy_score\n",
    "from statsmodels.graphics.tsaplots import plot_pacf, plot_acf"
   ]
  },
  {
   "cell_type": "code",
   "execution_count": 2,
   "metadata": {},
   "outputs": [],
   "source": [
    "train_features = pd.read_csv('features_train.csv')\n",
    "train_lab = np.ravel(pd.read_csv('train_labels.csv').drop(columns='Id').to_numpy())-1"
   ]
  },
  {
   "cell_type": "code",
   "execution_count": 3,
   "metadata": {},
   "outputs": [],
   "source": [
    "x_subj1, y_subj1 = train_features[0:21600], train_lab[0:21600]\n",
    "x_subj2, y_subj2 = train_features[21600:2*21600], train_lab[21600:2*21600]\n",
    "x_subj3, y_subj3 = train_features[2*21600:3*21600], train_lab[2*21600:3*21600]"
   ]
  },
  {
   "cell_type": "code",
   "execution_count": 4,
   "metadata": {},
   "outputs": [],
   "source": [
    "shift_arr = [2,1,0,-1,-2]"
   ]
  },
  {
   "cell_type": "code",
   "execution_count": 5,
   "metadata": {},
   "outputs": [],
   "source": [
    "x_subj1 = pd.concat([x_subj1.shift(i) for i in shift_arr], axis=1).fillna(0).to_numpy()\n",
    "x_subj2 = pd.concat([x_subj2.shift(i) for i in shift_arr], axis=1).fillna(0).to_numpy()\n",
    "x_subj3 = pd.concat([x_subj3.shift(i) for i in shift_arr], axis=1).fillna(0).to_numpy()"
   ]
  },
  {
   "cell_type": "code",
   "execution_count": 6,
   "metadata": {},
   "outputs": [
    {
     "output_type": "stream",
     "name": "stdout",
     "text": [
      "[LightGBM] [Warning] Accuracy may be bad since you didn't explicitly set num_leaves OR 2^max_depth > num_leaves. (num_leaves=31).\n",
      "\n",
      "Train BMAC:\n",
      "0.9923\n",
      "\n",
      "Test BMAC:\n",
      "0.957\n",
      "\n",
      "________________________\n",
      "[LightGBM] [Warning] Accuracy may be bad since you didn't explicitly set num_leaves OR 2^max_depth > num_leaves. (num_leaves=31).\n",
      "\n",
      "Train BMAC:\n",
      "0.9912\n",
      "\n",
      "Test BMAC:\n",
      "0.9621\n",
      "\n",
      "________________________\n",
      "[LightGBM] [Warning] Accuracy may be bad since you didn't explicitly set num_leaves OR 2^max_depth > num_leaves. (num_leaves=31).\n",
      "\n",
      "Train BMAC:\n",
      "0.9973\n",
      "\n",
      "Test BMAC:\n",
      "0.9973\n",
      "\n",
      "________________________\n",
      "\n",
      "Average BMAC: 0.9721\n",
      "Std: 0.0179\n"
     ]
    }
   ],
   "source": [
    "BAC = []\n",
    "fold1_train = (np.concatenate((x_subj1, x_subj2), axis=0), np.concatenate((y_subj1, y_subj2), axis=0))\n",
    "fold1_test = (x_subj3, y_subj3)\n",
    "\n",
    "fold2_train = (np.concatenate((x_subj1, x_subj3), axis=0), np.concatenate((y_subj1, y_subj3), axis=0))\n",
    "fold2_test = (x_subj2, y_subj2)\n",
    "\n",
    "fold3_train = (np.concatenate((x_subj2, x_subj3), axis=0), np.concatenate((y_subj2, y_subj3), axis=0))\n",
    "fold3_test = (x_subj1, y_subj1)\n",
    "\n",
    "folds = [ (fold1_train, fold1_test)\n",
    "        , (fold2_train, fold2_test)\n",
    "        , (fold3_test, fold3_test)]\n",
    "\n",
    "for ((X_cvtrain, y_cvtrain), (X_cvtest, y_cvtest)) in folds:\n",
    "    model = LGBMClassifier(objective='multiclass',\n",
    "                        n_estimators = 60,\n",
    "                        learning_rate = 0.1,\n",
    "                        random_state=42,\n",
    "                        max_depth = 150,\n",
    "                        min_child_samples = 20,\n",
    "                        subsample = 0.75,\n",
    "                        colsample_bytree = 0.8,\n",
    "                        reg_alpha = 0,\n",
    "                        class_weight=\"balanced\")\n",
    "    X_cvtrain = StandardScaler().fit_transform(X_cvtrain)\n",
    "    X_cvtest = StandardScaler().fit_transform(X_cvtest)\n",
    "    model.fit(X_cvtrain, y_cvtrain)\n",
    "\n",
    "    predtrain = model.predict(X_cvtrain)\n",
    "    pred = model.predict(X_cvtest)\n",
    "\n",
    "    print(\"\\nTrain BMAC:\")\n",
    "    print(np.round(balanced_accuracy_score(y_cvtrain, predtrain), 4))\n",
    "    print(\"\\nTest BMAC:\")\n",
    "    print(np.round(balanced_accuracy_score(y_cvtest, pred), 4))\n",
    "    print(\"\\n________________________\")\n",
    "\n",
    "    BAC.append(np.round(balanced_accuracy_score(y_cvtest, pred), 4))\n",
    "\n",
    "print(\"\\nAverage BMAC:\", round(np.sum(BAC)/3, 4))\n",
    "print(\"Std:\", round(np.std(BAC), 4))"
   ]
  },
  {
   "cell_type": "code",
   "execution_count": 6,
   "metadata": {},
   "outputs": [],
   "source": [
    "test_features = pd.read_csv('features_test.csv')\n",
    "test_subj1 = test_features[0:21600]\n",
    "test_subj2 = test_features[21600:2*21600]\n",
    "test_subj1 = pd.concat([test_subj1.shift(i) for i in shift_arr], axis=1).fillna(0).to_numpy()\n",
    "test_subj2 = pd.concat([test_subj2.shift(i) for i in shift_arr], axis=1).fillna(0).to_numpy()"
   ]
  },
  {
   "cell_type": "code",
   "execution_count": 7,
   "metadata": {},
   "outputs": [],
   "source": [
    "model = LGBMClassifier(objective='multiclass',\n",
    "                    n_estimators = 60,\n",
    "                    learning_rate = 0.1,\n",
    "                    random_state=42,\n",
    "                    max_depth = 150,\n",
    "                    min_child_samples = 20,\n",
    "                    subsample = 0.75,\n",
    "                    colsample_bytree = 0.8,\n",
    "                    reg_alpha = 0,\n",
    "                    class_weight=\"balanced\")"
   ]
  },
  {
   "cell_type": "code",
   "execution_count": 8,
   "metadata": {},
   "outputs": [
    {
     "output_type": "stream",
     "name": "stdout",
     "text": [
      "[LightGBM] [Warning] Accuracy may be bad since you didn't explicitly set num_leaves OR 2^max_depth > num_leaves. (num_leaves=31).\n"
     ]
    },
    {
     "output_type": "execute_result",
     "data": {
      "text/plain": [
       "LGBMClassifier(class_weight='balanced', colsample_bytree=0.8, max_depth=150,\n",
       "               n_estimators=60, objective='multiclass', random_state=42,\n",
       "               reg_alpha=0, subsample=0.75)"
      ]
     },
     "metadata": {},
     "execution_count": 8
    }
   ],
   "source": [
    "pred_train_x = np.concatenate([x_subj1, x_subj2, x_subj3], axis=0)\n",
    "pred_train_x = StandardScaler().fit_transform(pred_train_x)\n",
    "model.fit(pred_train_x, np.concatenate((y_subj1, y_subj2, y_subj3)))"
   ]
  },
  {
   "cell_type": "code",
   "execution_count": 9,
   "metadata": {},
   "outputs": [],
   "source": [
    "pred_test_x = np.concatenate([test_subj1, test_subj2], axis=0)\n",
    "pred_test_x = StandardScaler().fit_transform(pred_test_x)\n",
    "preds = model.predict(pred_test_x)+1"
   ]
  },
  {
   "cell_type": "code",
   "execution_count": 11,
   "metadata": {},
   "outputs": [],
   "source": [
    "dfResults = pd.DataFrame({\"Id\": list(range(0, preds.shape[0], 1)), \"y\": preds})\n",
    "dfResults.to_csv(\"Results.csv\", sep=',', index=False)"
   ]
  },
  {
   "cell_type": "code",
   "execution_count": null,
   "metadata": {},
   "outputs": [],
   "source": []
  }
 ]
}