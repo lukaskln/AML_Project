{
  "cells": [
    {
      "cell_type": "code",
      "source": [
        "# FFT\r\n",
        "\r\n",
        "X_train_fft = pd.DataFrame(np.empty(shape=(5117, 17978)))\r\n",
        "\r\n",
        "for i in range(0,X_train.shape[0]):\r\n",
        "    X_train_fft.iloc[i,:] = np.abs(fft(X_train.iloc[i,:][:X_train.shape[1]]))"
      ],
      "outputs": [],
      "execution_count": null,
      "metadata": {}
    },
    {
      "cell_type": "code",
      "source": [
        "nn = 1\r\n",
        "signal_length = X_train.shape[1]\r\n",
        "full_signal_fft_values = X_train_fft.iloc[nn,:]\r\n",
        "x_values_fft = range(0, len(X_train.iloc[nn,:]), 1)\r\n",
        "\r\n",
        "fig = plt.figure(figsize=(12, 6))\r\n",
        "grid = plt.GridSpec(2, 1,hspace=0.6)\r\n",
        "\r\n",
        "full_signal = fig.add_subplot(grid[0, 0])\r\n",
        "fft_comp = fig.add_subplot(grid[1, 0])\r\n",
        "\r\n",
        "full_signal.plot(x_values_fft, X_train.iloc[nn,:], color = 'green')\r\n",
        "full_signal.set_xlim(0, signal_length)\r\n",
        "full_signal.set_title('Full Signal')\r\n",
        "fft_comp.plot(x_values_fft, list(full_signal_fft_values), color = 'purple')\r\n",
        "fft_comp.set_xlim(1, 2000)\r\n",
        "fft_comp.set_title('log FFT of full signal')"
      ],
      "outputs": [],
      "execution_count": null,
      "metadata": {
        "collapsed": true,
        "jupyter": {
          "source_hidden": false,
          "outputs_hidden": false
        },
        "nteract": {
          "transient": {
            "deleting": false
          }
        }
      }
    },
    {
      "cell_type": "code",
      "source": [
        "# choose default wavelet function \r\n",
        "scg.set_default_wavelet('morl')\r\n",
        "signal = 1\r\n",
        "nn = 33\r\n",
        "signal_length = 5000\r\n",
        "# range of scales to perform the transform\r\n",
        "scales = scg.periods2scales( np.arange(1, signal_length+1) )\r\n",
        "x_values_wvt_arr = range(0,len(X_train.iloc[signal,:]),1)\r\n",
        "\r\n",
        "# plot the signal \r\n",
        "fig1, ax1 = plt.subplots(1, 1, figsize=(9, 3.5));  \r\n",
        "ax1.plot(x_values_wvt_arr, X_train.iloc[signal,:], linewidth=3, color='blue')\r\n",
        "ax1.set_xlim(0, signal_length)\r\n",
        "ax1.set_title(\"ECG ARR\")\r\n",
        "\r\n",
        "# the scaleogram\r\n",
        "scg.cws(X_train.iloc[signal,:][:signal_length], scales=scales, figsize=(10, 4.0), coi = False, ylabel=\"Period\", xlabel=\"Time\",\r\n",
        "        title='ECG_ARR: scaleogram with linear period'); \r\n",
        "\r\n",
        "print(\"Default wavelet function used to compute the transform:\", scg.get_default_wavelet(), \"(\",\r\n",
        "      pywt.ContinuousWavelet(scg.get_default_wavelet()).family_name, \")\")"
      ],
      "outputs": [],
      "execution_count": null,
      "metadata": {
        "collapsed": true,
        "jupyter": {
          "source_hidden": false,
          "outputs_hidden": false
        },
        "nteract": {
          "transient": {
            "deleting": false
          }
        }
      }
    }
  ],
  "metadata": {
    "kernelspec": {
      "name": "python3-azureml",
      "language": "python",
      "display_name": "Python 3.6 - AzureML"
    },
    "language_info": {
      "name": "python",
      "version": "3.6.9",
      "mimetype": "text/x-python",
      "codemirror_mode": {
        "name": "ipython",
        "version": 3
      },
      "pygments_lexer": "ipython3",
      "nbconvert_exporter": "python",
      "file_extension": ".py"
    },
    "kernel_info": {
      "name": "python3-azureml"
    },
    "nteract": {
      "version": "nteract-front-end@1.0.0"
    }
  },
  "nbformat": 4,
  "nbformat_minor": 2
}