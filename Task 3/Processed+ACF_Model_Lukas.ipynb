{
  "cells": [
    {
      "cell_type": "code",
      "source": [
        "#### SetUp\r\n",
        "\r\n",
        "import numpy as np\r\n",
        "import pandas as pd\r\n",
        "import lightgbm as lgb\r\n",
        "from sklearn.metrics import f1_score, confusion_matrix, plot_confusion_matrix\r\n",
        "from sklearn.preprocessing import MinMaxScaler, StandardScaler\r\n",
        "from sklearn.model_selection import cross_validate, GridSearchCV, KFold\r\n",
        "from sklearn.linear_model import Lasso, LogisticRegression, RidgeClassifier\r\n",
        "from sklearn.feature_selection import SelectFromModel, RFE\r\n",
        "from sklearn.svm import SVC, OneClassSVM\r\n",
        "from sklearn.decomposition import PCA\r\n",
        "from sklearn.ensemble import RandomForestClassifier\r\n",
        "import xgboost as xgb\r\n",
        "\r\n",
        "from sklearn.ensemble import GradientBoostingClassifier\r\n",
        "\r\n",
        "import pywt\r\n",
        "import numpy as np\r\n",
        "import pandas as pd\r\n",
        "import pywt\r\n",
        "import seaborn as sns\r\n",
        "import scaleogram as scg \r\n",
        "import matplotlib.pyplot as plt\r\n",
        "import matplotlib.gridspec as GridSpec\r\n",
        "from mat4py import loadmat\r\n",
        "from scipy.fftpack import fft\r\n",
        "import seaborn as sn\r\n",
        "\r\n",
        "import matplotlib.pyplot as plt\r\n",
        "from scipy.stats import mode\r\n",
        "from statsmodels.tsa.stattools import acf, pacf\r\n",
        "\r\n",
        "from collections import Counter\r\n",
        "from scipy import stats\r\n",
        "from itertools import repeat\r\n",
        "\r\n",
        "import biosppy.signals.ecg as ecg\r\n",
        "\r\n",
        "vColors = [\"#049DD9\", \"#03A64A\", \"#F2AC29\", \"#F2CA80\", \"#F22929\"]"
      ],
      "outputs": [],
      "execution_count": 1,
      "metadata": {
        "collapsed": true,
        "jupyter": {
          "source_hidden": false,
          "outputs_hidden": false
        },
        "nteract": {
          "transient": {
            "deleting": false
          }
        },
        "gather": {
          "logged": 1606820232595
        }
      }
    },
    {
      "cell_type": "code",
      "source": [
        "# Import\r\n",
        "\r\n",
        "X_train = pd.read_csv(\"X_train_processed.csv\").drop([\"index\"], axis=1)\r\n",
        "y_train = np.ravel(pd.read_csv(\"y_train.csv\").drop(\"id\",axis = 1).to_numpy())"
      ],
      "outputs": [],
      "execution_count": 16,
      "metadata": {
        "gather": {
          "logged": 1606821580478
        }
      }
    },
    {
      "cell_type": "code",
      "source": [
        "X_train = X_train.replace(np.inf, np.nan)\r\n",
        "X_train = X_train.replace(-np.inf, np.nan)\r\n",
        "\r\n",
        "X_train.fillna(0, inplace=True)\r\n",
        "\r\n",
        "X_train = X_train.dropna(axis=1, how=\"all\")"
      ],
      "outputs": [],
      "execution_count": 17,
      "metadata": {
        "collapsed": true,
        "jupyter": {
          "source_hidden": false,
          "outputs_hidden": false
        },
        "nteract": {
          "transient": {
            "deleting": false
          }
        },
        "gather": {
          "logged": 1606821586168
        }
      }
    },
    {
      "cell_type": "code",
      "source": [
        "# Adding the AC features to the processed data based on the raw data\r\n",
        "\r\n",
        "X_train_raw = pd.read_csv(\"X_train.csv\").drop(labels='id', axis=1).drop(\"x17978\", axis = 1).to_numpy()\r\n",
        "\r\n",
        "ACF = []\r\n",
        "PACF = []\r\n",
        "\r\n",
        "for i in range(0,X_train_raw.shape[0],1):\r\n",
        "    if i % 500 == 0:\r\n",
        "        print(i)\r\n",
        "    ACF.append(acf(X_train_raw[i,:][~np.isnan(X_train_raw[i,:])], fft = True).tolist()[1:5])\r\n",
        "    PACF.append(pacf(X_train_raw[i,:][~np.isnan(X_train_raw[i,:])]).tolist()[1:5])\r\n"
      ],
      "outputs": [
        {
          "output_type": "stream",
          "name": "stderr",
          "text": [
            "/anaconda/envs/azureml_py36/lib/python3.6/site-packages/IPython/core/interactiveshell.py:3072: DtypeWarning: Columns (17979) have mixed types. Specify dtype option on import or set low_memory=False.\n",
            "  interactivity=interactivity, compiler=compiler, result=result)\n",
            "/anaconda/envs/azureml_py36/lib/python3.6/site-packages/statsmodels/regression/linear_model.py:1358: RuntimeWarning: invalid value encountered in sqrt\n",
            "  return rho, np.sqrt(sigmasq)\n"
          ]
        },
        {
          "output_type": "stream",
          "name": "stdout",
          "text": [
            "0\n",
            "500\n",
            "1000\n",
            "1500\n",
            "2000\n",
            "2500\n",
            "3000\n",
            "3500\n",
            "4000\n",
            "4500\n",
            "5000\n"
          ]
        }
      ],
      "execution_count": 4,
      "metadata": {
        "collapsed": true,
        "jupyter": {
          "source_hidden": false,
          "outputs_hidden": false
        },
        "nteract": {
          "transient": {
            "deleting": false
          }
        },
        "gather": {
          "logged": 1606820692400
        }
      }
    },
    {
      "cell_type": "code",
      "source": [
        "ACF1 = pd.DataFrame(np.array(ACF))\r\n",
        "PACF1 = pd.DataFrame(np.array(PACF))\r\n",
        "\r\n",
        "X_train = pd.concat([X_train,ACF1,PACF1], axis = 1)"
      ],
      "outputs": [],
      "execution_count": 19,
      "metadata": {
        "collapsed": true,
        "jupyter": {
          "source_hidden": false,
          "outputs_hidden": false
        },
        "nteract": {
          "transient": {
            "deleting": false
          }
        },
        "gather": {
          "logged": 1606821618050
        }
      }
    },
    {
      "cell_type": "code",
      "source": [
        "scaler = StandardScaler() \r\n",
        "\r\n",
        "X_train = pd.DataFrame(\r\n",
        "    scaler.fit_transform(\r\n",
        "    X_train),\r\n",
        "    columns=X_train.columns)"
      ],
      "outputs": [],
      "execution_count": 21,
      "metadata": {
        "collapsed": true,
        "jupyter": {
          "source_hidden": false,
          "outputs_hidden": false
        },
        "nteract": {
          "transient": {
            "deleting": false
          }
        },
        "gather": {
          "logged": 1606821637914
        }
      }
    },
    {
      "cell_type": "code",
      "source": [
        "# Parameter Tuning. Can be ignored rn.\r\n",
        "\r\n",
        "param_test = {'max_depth': [15, 20, 25],\r\n",
        "              'min_child_samples': [2,4,8],\r\n",
        "              'subsample': [0.7,0.9],\r\n",
        "              'colsample_bytree': [0.9, 0.7]}\r\n",
        "\r\n",
        "gsearch5 = GridSearchCV(estimator=lgb.LGBMClassifier(boosting_type='gbdt',  \r\n",
        "                                                    objective='multiclass',\r\n",
        "                                                    num_iterations = 100,\r\n",
        "                                                    learning_rate = 0.1,\r\n",
        "                                                    num_threads = 4,\r\n",
        "                                                    class_weight=\"balanced\",\r\n",
        "                                                    random_state = 42),\r\n",
        "                        param_grid=param_test,\r\n",
        "                        scoring=\"f1_micro\",\r\n",
        "                        n_jobs= -1, \r\n",
        "                        cv=5)\r\n",
        "\r\n",
        "gsearch5.fit(X_train, y_train)\r\n",
        "\r\n",
        "pd.DataFrame(gsearch5.cv_results_).sort_values(\"rank_test_score\")\r\n",
        "print(gsearch5.best_params_)\r\n",
        "print(gsearch5.best_score_)"
      ],
      "outputs": [],
      "execution_count": 20,
      "metadata": {
        "collapsed": true,
        "jupyter": {
          "source_hidden": false,
          "outputs_hidden": false
        },
        "nteract": {
          "transient": {
            "deleting": false
          }
        },
        "gather": {
          "logged": 1606432220528
        }
      }
    },
    {
      "cell_type": "code",
      "source": [
        "F1 = []\r\n",
        "cv = KFold(n_splits=5)\r\n",
        "\r\n",
        "# model_1 = GradientBoostingClassifier(learning_rate=0.1, n_estimators=100, max_depth=7, \r\n",
        "#                                     min_samples_split=60, min_samples_leaf=9, subsample=1,\r\n",
        "#                                     max_features=50, random_state=42)\r\n",
        "\r\n",
        "model_1 = lgb.LGBMClassifier(objective='multiclass',\r\n",
        "                        n_estimators = 500,\r\n",
        "                        learning_rate = 0.05,\r\n",
        "                        random_state=42,\r\n",
        "                        max_depth = 15,\r\n",
        "                        min_child_samples = 8,\r\n",
        "                        min_child_weight = 0,\r\n",
        "                        subsample = 0.8,\r\n",
        "                        colsample_bytree = 0.8,\r\n",
        "                        class_weight = \"balanced\"\r\n",
        "                        )\r\n",
        "\r\n",
        "# model_3 = SVC(class_weight=\"balanced\", random_state=42, C = 8.858667904100823, gamma = \"auto\")\r\n",
        "\r\n",
        "for train_ix, test_ix in cv.split(X_train):\r\n",
        "\r\n",
        "    X_cvtrain, X_cvtest = X_train.iloc[train_ix, :], X_train.iloc[test_ix, :]\r\n",
        "    y_cvtrain, y_cvtest = y_train[train_ix], y_train[test_ix]\r\n",
        "\r\n",
        "    model_1.fit(X_cvtrain, y_cvtrain)\r\n",
        "\r\n",
        "    predtrain_1 = model_1.predict(X_cvtrain)\r\n",
        "    pred_1 = model_1.predict(X_cvtest)\r\n",
        "\r\n",
        "    # model_2.fit(X_cvtrain, y_cvtrain)\r\n",
        "\r\n",
        "    # predtrain_2 = model_2.predict(X_cvtrain)\r\n",
        "    # pred_2 = model_2.predict(X_cvtest)\r\n",
        "\r\n",
        "    # model_3.fit(X_cvtrain, y_cvtrain)\r\n",
        "\r\n",
        "    # predtrain_3 = model_3.predict(X_cvtrain)\r\n",
        "    # pred_3 = model_3.predict(X_cvtest)\r\n",
        "\r\n",
        "    predtrain = model_1.predict(X_cvtrain) #mode(np.array([predtrain_1,predtrain_2,predtrain_3]).T, axis=1)[0]\r\n",
        "    pred = model_1.predict(X_cvtest) #mode(np.array([pred_1,pred_2,pred_3]).T, axis=1)[0]\r\n",
        "\r\n",
        "    print(\"\\nTrain F1:\")\r\n",
        "    print(np.round(f1_score(y_cvtrain, predtrain, average='micro'), 4))\r\n",
        "    print(\"\\nTest F1:\")\r\n",
        "    print(np.round(f1_score(y_cvtest, pred, average='micro'), 4))\r\n",
        "    print(\"\\n________________________\")\r\n",
        "\r\n",
        "    F1.append(np.round(f1_score(y_cvtest, pred, average= \"micro\"), 4))\r\n",
        "\r\n",
        "print(\"\\nAverage F1:\", round(np.sum(F1)/5, 4))\r\n",
        "print(\"Std:\", round(np.std(F1), 4))"
      ],
      "outputs": [
        {
          "output_type": "stream",
          "name": "stdout",
          "text": [
            "\n",
            "Train F1:\n",
            "1.0\n",
            "\n",
            "Test F1:\n",
            "0.8359\n",
            "\n",
            "________________________\n",
            "\n",
            "Train F1:\n",
            "1.0\n",
            "\n",
            "Test F1:\n",
            "0.834\n",
            "\n",
            "________________________\n",
            "\n",
            "Train F1:\n",
            "1.0\n",
            "\n",
            "Test F1:\n",
            "0.8192\n",
            "\n",
            "________________________\n",
            "\n",
            "Train F1:\n",
            "1.0\n",
            "\n",
            "Test F1:\n",
            "0.828\n",
            "\n",
            "________________________\n",
            "\n",
            "Train F1:\n",
            "1.0\n",
            "\n",
            "Test F1:\n",
            "0.8328\n",
            "\n",
            "________________________\n",
            "\n",
            "Average F1: 0.83\n",
            "Std: 0.006\n"
          ]
        }
      ],
      "execution_count": 24,
      "metadata": {
        "collapsed": true,
        "jupyter": {
          "source_hidden": false,
          "outputs_hidden": false
        },
        "nteract": {
          "transient": {
            "deleting": false
          }
        },
        "gather": {
          "logged": 1606822188425
        }
      }
    },
    {
      "cell_type": "code",
      "source": [
        "sn.heatmap(confusion_matrix(y_cvtest, pred), annot=True)"
      ],
      "outputs": [
        {
          "output_type": "execute_result",
          "execution_count": 9,
          "data": {
            "text/plain": "<matplotlib.axes._subplots.AxesSubplot at 0x7f5270168b70>"
          },
          "metadata": {}
        },
        {
          "output_type": "display_data",
          "data": {
            "text/plain": "<Figure size 432x288 with 2 Axes>",
            "image/png": "[encoded data removed]"
          },
          "metadata": {
            "needs_background": "light"
          }
        }
      ],
      "execution_count": 9,
      "metadata": {
        "collapsed": true,
        "jupyter": {
          "source_hidden": false,
          "outputs_hidden": false
        },
        "nteract": {
          "transient": {
            "deleting": false
          }
        },
        "gather": {
          "logged": 1606821232514
        }
      }
    },
    {
      "cell_type": "code",
      "source": [
        "X_test = pd.read_csv(\"x_test_processed.csv\").drop([\"index\"], axis=1)\r\n",
        "\r\n",
        "X_test = X_test.replace(np.inf, np.nan)\r\n",
        "X_test = X_test.replace(-np.inf, np.nan)\r\n",
        "\r\n",
        "X_test.fillna(0, inplace=True)\r\n",
        "\r\n",
        "X_test = X_test.dropna(axis=1, how=\"all\")\r\n"
      ],
      "outputs": [],
      "execution_count": 11,
      "metadata": {
        "collapsed": true,
        "jupyter": {
          "source_hidden": false,
          "outputs_hidden": false
        },
        "nteract": {
          "transient": {
            "deleting": false
          }
        },
        "gather": {
          "logged": 1606821373370
        }
      }
    },
    {
      "cell_type": "code",
      "source": [
        "X_test_raw = pd.read_csv(\"X_test.csv\").drop(labels='id', axis=1).drop(\"x17978\", axis = 1).to_numpy()\r\n",
        "\r\n",
        "ACF = []\r\n",
        "PACF = []\r\n",
        "\r\n",
        "for i in range(0,X_test_raw.shape[0],1):\r\n",
        "    if i % 500 == 0:\r\n",
        "        print(i)\r\n",
        "    ACF.append(acf(X_test_raw[i,:][~np.isnan(X_test_raw[i,:])], fft = True).tolist()[1:5])\r\n",
        "    PACF.append(pacf(X_test_raw[i,:][~np.isnan(X_test_raw[i,:])]).tolist()[1:5])\r\n"
      ],
      "outputs": [],
      "execution_count": null,
      "metadata": {
        "collapsed": true,
        "jupyter": {
          "source_hidden": false,
          "outputs_hidden": false
        },
        "nteract": {
          "transient": {
            "deleting": false
          }
        },
        "gather": {
          "logged": 1606821513434
        }
      }
    },
    {
      "cell_type": "code",
      "source": [
        "ACF2 = pd.DataFrame(np.array(ACF))\r\n",
        "PACF2 = pd.DataFrame(np.array(PACF))\r\n",
        "\r\n",
        "X_test = pd.concat([X_test,ACF2,PACF2], axis = 1)"
      ],
      "outputs": [],
      "execution_count": 13,
      "metadata": {
        "collapsed": true,
        "jupyter": {
          "source_hidden": false,
          "outputs_hidden": false
        },
        "nteract": {
          "transient": {
            "deleting": false
          }
        },
        "gather": {
          "logged": 1606821517937
        }
      }
    },
    {
      "cell_type": "code",
      "source": [
        "X_test = pd.DataFrame(\r\n",
        "    scaler.fit_transform(\r\n",
        "    X_test),\r\n",
        "    columns=X_test.columns)"
      ],
      "outputs": [],
      "execution_count": 14,
      "metadata": {
        "collapsed": true,
        "jupyter": {
          "source_hidden": false,
          "outputs_hidden": false
        },
        "nteract": {
          "transient": {
            "deleting": false
          }
        },
        "gather": {
          "logged": 1606821519853
        }
      }
    },
    {
      "cell_type": "code",
      "source": [
        "model_1.fit(X_train, y_train)\r\n",
        "#model_2.fit(X_train, y_train)\r\n",
        "#model_3.fit(X_train, y_train)\r\n",
        "\r\n",
        "#preds_1 = model_1.predict(X_test)\r\n",
        "#preds_2 = model_1.predict(X_test)\r\n",
        "#preds_3 = model_1.predict(X_test)\r\n",
        "\r\n",
        "preds = model_1.predict(X_test) #mode(np.array([preds_1,preds_2,preds_3]).T, axis=1)[0].tolist()\r\n",
        "#preds = [item for sublist in preds for item in sublist]\r\n",
        "\r\n",
        "dfResults = pd.DataFrame({\"id\": list(range(0, X_test.shape[0], 1)), \"y\": preds})\r\n",
        "\r\n",
        "dfResults.to_csv(\"Results.csv\", sep=',', index=False)"
      ],
      "outputs": [],
      "execution_count": 22,
      "metadata": {
        "collapsed": true,
        "jupyter": {
          "source_hidden": false,
          "outputs_hidden": false
        },
        "nteract": {
          "transient": {
            "deleting": false
          }
        },
        "gather": {
          "logged": 1606821665219
        }
      }
    }
  ],
  "metadata": {
    "kernelspec": {
      "name": "python3-azureml",
      "language": "python",
      "display_name": "Python 3.6 - AzureML"
    },
    "language_info": {
      "name": "python",
      "version": "3.6.9",
      "mimetype": "text/x-python",
      "codemirror_mode": {
        "name": "ipython",
        "version": 3
      },
      "pygments_lexer": "ipython3",
      "nbconvert_exporter": "python",
      "file_extension": ".py"
    },
    "kernel_info": {
      "name": "python3-azureml"
    },
    "nteract": {
      "version": "nteract-front-end@1.0.0"
    }
  },
  "nbformat": 4,
  "nbformat_minor": 2
}