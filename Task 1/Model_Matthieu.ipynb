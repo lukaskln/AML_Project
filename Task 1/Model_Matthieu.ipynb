{
 "metadata": {
  "language_info": {
   "codemirror_mode": {
    "name": "ipython",
    "version": 3
   },
   "file_extension": ".py",
   "mimetype": "text/x-python",
   "name": "python",
   "nbconvert_exporter": "python",
   "pygments_lexer": "ipython3",
   "version": "3.8.5-final"
  },
  "orig_nbformat": 2,
  "kernelspec": {
   "name": "Python 3.8.5 64-bit",
   "display_name": "Python 3.8.5 64-bit",
   "metadata": {
    "interpreter": {
     "hash": "e7370f93d1d0cde622a1f8e1c04877d8463912d04d973331ad4851f04de6915a"
    }
   }
  }
 },
 "nbformat": 4,
 "nbformat_minor": 2,
 "cells": [
  {
   "cell_type": "code",
   "execution_count": 174,
   "metadata": {},
   "outputs": [],
   "source": [
    "import pandas as pd\n",
    "import numpy as np\n",
    "import lightgbm as lgb\n",
    "import seaborn as se\n",
    "from sklearn.metrics import r2_score\n",
    "from sklearn.base import BaseEstimator, RegressorMixin\n",
    "from sklearn.ensemble import IsolationForest, GradientBoostingRegressor, RandomForestRegressor\n",
    "from sklearn.model_selection import train_test_split\n",
    "from sklearn.preprocessing import normalize, MinMaxScaler, StandardScaler\n",
    "from sklearn.impute import SimpleImputer, KNNImputer\n",
    "import sklearn.metrics as skm\n",
    "from sklearn.feature_selection import VarianceThreshold, RFECV, mutual_info_regression, SelectPercentile, SelectKBest, f_regression, RFE, SelectFromModel, SelectorMixin\n",
    "from sklearn.svm import SVR\n",
    "from sklearn.decomposition import PCA, KernelPCA\n",
    "from sklearn.experimental import enable_iterative_imputer\n",
    "from sklearn.impute import IterativeImputer\n",
    "from sklearn.model_selection import GridSearchCV\n",
    "from sklearn.model_selection import KFold\n",
    "from sklearn.neural_network import MLPRegressor\n",
    "from sklearn.experimental import enable_hist_gradient_boosting\n",
    "from sklearn.ensemble import HistGradientBoostingRegressor,ExtraTreesRegressor\n",
    "from sklearn.neighbors import LocalOutlierFactor\n",
    "from sklearn.pipeline import Pipeline\n",
    "from lightgbm import LGBMRegressor\n",
    "from sklearn.decomposition import PCA\n",
    "from sklearn.preprocessing import FunctionTransformer\n",
    "from sklearn.ensemble import IsolationForest\n",
    "from sklearn.neighbors import LocalOutlierFactor\n",
    "from scipy.stats import normaltest"
   ]
  },
  {
   "cell_type": "code",
   "execution_count": 217,
   "metadata": {},
   "outputs": [],
   "source": [
    "def corr_fun(X, y):\n",
    "    df = pd.DataFrame(X)\n",
    "    corr_matrix = df.corr().abs()\n",
    "    upper = corr_matrix.where(np.triu(np.ones(corr_matrix.shape), k=1).astype(np.bool))\n",
    "    bla = np.array([np.max(upper[column]) for column in upper.columns])\n",
    "    return bla\n",
    "X = pd.read_csv(\"X_train.csv\").drop(\"id\", axis=1).to_numpy()\n",
    "y = pd.read_csv(\"y_train.csv\").drop(\"id\", axis=1).to_numpy()\n",
    "pipe_pre = Pipeline([\n",
    "    ('s1', SimpleImputer(strategy='median')),\n",
    "    ('s10', VarianceThreshold()),\n",
    "    ('s6', SelectKBest(score_func=corr_fun)),\n",
    "    ('s11', MinMaxScaler()),\n",
    "    ('s5', LGBMRegressor(n_jobs=1))\n",
    "])\n",
    "grid = {\n",
    "    's6__k': [230],\n",
    "    's5__num_leaves': [24],\n",
    "    's5__subsample_for_bin': [82],\n",
    "    's5__min_child_samples': [1],\n",
    "    's5__max_depth': [8],\n",
    "    's5__colsample_bytree': [0.5],\n",
    "    's5__n_estimators': [750],\n",
    "    's5__learning_rate': [0.05],\n",
    "}\n",
    "estimator = GridSearchCV(pipe_pre, grid, cv=5, n_jobs=16, scoring=\"r2\").fit(X, y)"
   ]
  },
  {
   "cell_type": "code",
   "execution_count": 218,
   "metadata": {},
   "outputs": [],
   "source": [
    "X_test = pd.read_csv(\"X_test.csv\").drop(\"id\", axis=1)\n",
    "pd.DataFrame(estimator.best_estimator_.predict(X_test)).to_csv(\"rofl.csv\", index_label='id', header=['y'])"
   ]
  }
 ]
}